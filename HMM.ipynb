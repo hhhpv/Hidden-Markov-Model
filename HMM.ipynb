{
 "cells": [
  {
   "cell_type": "markdown",
   "metadata": {},
   "source": [
    "<h1 align=\"center\">Hidden Markov Models on Weather Dataset<h1>"
   ]
  },
  {
   "cell_type": "markdown",
   "metadata": {},
   "source": [
    "## First We import the libraries required for our project"
   ]
  },
  {
   "cell_type": "code",
   "execution_count": 25,
   "metadata": {},
   "outputs": [],
   "source": [
    "import pandas as pd\n",
    "import numpy as np"
   ]
  },
  {
   "cell_type": "markdown",
   "metadata": {},
   "source": [
    "### Let's import the weather dataset for our project"
   ]
  },
  {
   "cell_type": "code",
   "execution_count": 26,
   "metadata": {},
   "outputs": [
    {
     "data": {
      "text/html": [
       "<div>\n",
       "<style scoped>\n",
       "    .dataframe tbody tr th:only-of-type {\n",
       "        vertical-align: middle;\n",
       "    }\n",
       "\n",
       "    .dataframe tbody tr th {\n",
       "        vertical-align: top;\n",
       "    }\n",
       "\n",
       "    .dataframe thead th {\n",
       "        text-align: right;\n",
       "    }\n",
       "</style>\n",
       "<table border=\"1\" class=\"dataframe\">\n",
       "  <thead>\n",
       "    <tr style=\"text-align: right;\">\n",
       "      <th></th>\n",
       "      <th>weather</th>\n",
       "      <th>umbrella</th>\n",
       "    </tr>\n",
       "  </thead>\n",
       "  <tbody>\n",
       "    <tr>\n",
       "      <th>0</th>\n",
       "      <td>foggy</td>\n",
       "      <td>no</td>\n",
       "    </tr>\n",
       "    <tr>\n",
       "      <th>1</th>\n",
       "      <td>foggy</td>\n",
       "      <td>no</td>\n",
       "    </tr>\n",
       "    <tr>\n",
       "      <th>2</th>\n",
       "      <td>foggy</td>\n",
       "      <td>no</td>\n",
       "    </tr>\n",
       "    <tr>\n",
       "      <th>3</th>\n",
       "      <td>rainy</td>\n",
       "      <td>yes</td>\n",
       "    </tr>\n",
       "    <tr>\n",
       "      <th>4</th>\n",
       "      <td>sunny</td>\n",
       "      <td>no</td>\n",
       "    </tr>\n",
       "  </tbody>\n",
       "</table>\n",
       "</div>"
      ],
      "text/plain": [
       "  weather umbrella\n",
       "0   foggy       no\n",
       "1   foggy       no\n",
       "2   foggy       no\n",
       "3   rainy      yes\n",
       "4   sunny       no"
      ]
     },
     "execution_count": 26,
     "metadata": {},
     "output_type": "execute_result"
    }
   ],
   "source": [
    "file_path=\".//Data.txt\"\n",
    "data=pd.read_csv((file_path),names=[\"weather\",\"umbrella\"])\n",
    "data.head()"
   ]
  },
  {
   "cell_type": "markdown",
   "metadata": {},
   "source": [
    "## Calculation of Transition and Emission probabilites:"
   ]
  },
  {
   "cell_type": "code",
   "execution_count": 27,
   "metadata": {},
   "outputs": [
    {
     "data": {
      "text/html": [
       "<div>\n",
       "<style scoped>\n",
       "    .dataframe tbody tr th:only-of-type {\n",
       "        vertical-align: middle;\n",
       "    }\n",
       "\n",
       "    .dataframe tbody tr th {\n",
       "        vertical-align: top;\n",
       "    }\n",
       "\n",
       "    .dataframe thead th {\n",
       "        text-align: right;\n",
       "    }\n",
       "</style>\n",
       "<table border=\"1\" class=\"dataframe\">\n",
       "  <thead>\n",
       "    <tr style=\"text-align: right;\">\n",
       "      <th></th>\n",
       "      <th>weather</th>\n",
       "      <th>umbrella</th>\n",
       "    </tr>\n",
       "  </thead>\n",
       "  <tbody>\n",
       "    <tr>\n",
       "      <th>0</th>\n",
       "      <td>foggy</td>\n",
       "      <td>182</td>\n",
       "    </tr>\n",
       "    <tr>\n",
       "      <th>1</th>\n",
       "      <td>foggy</td>\n",
       "      <td>79</td>\n",
       "    </tr>\n",
       "    <tr>\n",
       "      <th>2</th>\n",
       "      <td>rainy</td>\n",
       "      <td>46</td>\n",
       "    </tr>\n",
       "    <tr>\n",
       "      <th>3</th>\n",
       "      <td>rainy</td>\n",
       "      <td>199</td>\n",
       "    </tr>\n",
       "    <tr>\n",
       "      <th>4</th>\n",
       "      <td>sunny</td>\n",
       "      <td>452</td>\n",
       "    </tr>\n",
       "    <tr>\n",
       "      <th>5</th>\n",
       "      <td>sunny</td>\n",
       "      <td>42</td>\n",
       "    </tr>\n",
       "  </tbody>\n",
       "</table>\n",
       "</div>"
      ],
      "text/plain": [
       "  weather  umbrella\n",
       "0   foggy       182\n",
       "1   foggy        79\n",
       "2   rainy        46\n",
       "3   rainy       199\n",
       "4   sunny       452\n",
       "5   sunny        42"
      ]
     },
     "execution_count": 27,
     "metadata": {},
     "output_type": "execute_result"
    }
   ],
   "source": [
    "groups=(data.groupby([data[\"weather\"],data[\"umbrella\"]==\"yes\"],as_index=False).count())\n",
    "groups"
   ]
  },
  {
   "cell_type": "code",
   "execution_count": 28,
   "metadata": {},
   "outputs": [
    {
     "data": {
      "text/plain": [
       "{'foggy': {'no': 182, 'yes': 79},\n",
       " 'rainy': {'no': 46, 'yes': 199},\n",
       " 'sunny': {'no': 452, 'yes': 42}}"
      ]
     },
     "execution_count": 28,
     "metadata": {},
     "output_type": "execute_result"
    }
   ],
   "source": [
    "counts=dict()\n",
    "key=\"\"\n",
    "for i in groups.iterrows():\n",
    "    if key!=i[1].iloc[0]:\n",
    "        key=i[1].iloc[0]\n",
    "        counts[key]={}\n",
    "        counts[key][\"no\"]=i[1].iloc[1]\n",
    "    else:\n",
    "        counts[key][\"yes\"]=i[1].iloc[1] \n",
    "counts"
   ]
  },
  {
   "cell_type": "code",
   "execution_count": 29,
   "metadata": {},
   "outputs": [
    {
     "data": {
      "text/plain": [
       "{'foggy': {'yes': 0.30268199233716475,\n",
       "  'no': 0.6973180076628352,\n",
       "  'total': 0.261},\n",
       " 'rainy': {'yes': 0.8122448979591836,\n",
       "  'no': 0.18775510204081633,\n",
       "  'total': 0.245},\n",
       " 'sunny': {'yes': 0.08502024291497975,\n",
       "  'no': 0.9149797570850202,\n",
       "  'total': 0.494}}"
      ]
     },
     "execution_count": 29,
     "metadata": {},
     "output_type": "execute_result"
    }
   ],
   "source": [
    "probabilities=dict()\n",
    "for i in counts.keys():\n",
    "    probabilities[i]={}\n",
    "    probabilities[i][\"yes\"]=counts[i][\"yes\"]/(counts[i][\"yes\"]+counts[i][\"no\"])\n",
    "    probabilities[i][\"no\"]=counts[i][\"no\"]/(counts[i][\"yes\"]+counts[i][\"no\"])\n",
    "    probabilities[i][\"total\"]=(counts[i][\"yes\"]+counts[i][\"no\"])/len(data)\n",
    "probabilities"
   ]
  },
  {
   "cell_type": "code",
   "execution_count": 30,
   "metadata": {},
   "outputs": [
    {
     "name": "stdout",
     "output_type": "stream",
     "text": [
      "Emission Probabilities:\n"
     ]
    },
    {
     "data": {
      "text/html": [
       "<div>\n",
       "<style scoped>\n",
       "    .dataframe tbody tr th:only-of-type {\n",
       "        vertical-align: middle;\n",
       "    }\n",
       "\n",
       "    .dataframe tbody tr th {\n",
       "        vertical-align: top;\n",
       "    }\n",
       "\n",
       "    .dataframe thead th {\n",
       "        text-align: right;\n",
       "    }\n",
       "</style>\n",
       "<table border=\"1\" class=\"dataframe\">\n",
       "  <thead>\n",
       "    <tr style=\"text-align: right;\">\n",
       "      <th></th>\n",
       "      <th>foggy</th>\n",
       "      <th>rainy</th>\n",
       "      <th>sunny</th>\n",
       "    </tr>\n",
       "  </thead>\n",
       "  <tbody>\n",
       "    <tr>\n",
       "      <th>no</th>\n",
       "      <td>0.697318</td>\n",
       "      <td>0.187755</td>\n",
       "      <td>0.91498</td>\n",
       "    </tr>\n",
       "    <tr>\n",
       "      <th>yes</th>\n",
       "      <td>0.302682</td>\n",
       "      <td>0.812245</td>\n",
       "      <td>0.08502</td>\n",
       "    </tr>\n",
       "  </tbody>\n",
       "</table>\n",
       "</div>"
      ],
      "text/plain": [
       "        foggy     rainy    sunny\n",
       "no   0.697318  0.187755  0.91498\n",
       "yes  0.302682  0.812245  0.08502"
      ]
     },
     "execution_count": 30,
     "metadata": {},
     "output_type": "execute_result"
    }
   ],
   "source": [
    "prob_dframe=pd.DataFrame(probabilities)\n",
    "prob_dframe.drop([\"total\"],axis=0)\n",
    "prob_dframe=prob_dframe.drop([\"total\"],axis=0)\n",
    "print(\"Emission Probabilities:\")\n",
    "prob_dframe"
   ]
  },
  {
   "cell_type": "markdown",
   "metadata": {},
   "source": [
    "### Now let's count the number of occurences of each transition in our dataset to calculate the transition probabilities"
   ]
  },
  {
   "cell_type": "code",
   "execution_count": 36,
   "metadata": {},
   "outputs": [
    {
     "name": "stdout",
     "output_type": "stream",
     "text": [
      "Transtion counts:  {'foggy': {'rainy': 76, 'sunny': 54, 'foggy': 131}, 'rainy': {'sunny': 48, 'foggy': 55, 'rainy': 142}, 'sunny': {'rainy': 27, 'foggy': 74, 'sunny': 392}}\n",
      "Total Number of Occurence of each event:  {'foggy': 261, 'rainy': 245, 'sunny': 493}\n",
      "\n",
      "\n",
      "Transition Probabilities:  {'foggy': {'rainy': 0.29118773946360155, 'sunny': 0.20689655172413793, 'foggy': 0.5019157088122606}, 'rainy': {'sunny': 0.19591836734693877, 'foggy': 0.22448979591836735, 'rainy': 0.5795918367346938}, 'sunny': {'rainy': 0.05476673427991886, 'foggy': 0.15010141987829614, 'sunny': 0.795131845841785}}\n"
     ]
    }
   ],
   "source": [
    "tran_cnt=dict()\n",
    "tran_cnt[\"foggy\"]={\"rainy\":0,\"sunny\":0,\"foggy\":0}\n",
    "tran_cnt[\"rainy\"]={\"sunny\":0,\"foggy\":0,\"rainy\":0}\n",
    "tran_cnt[\"sunny\"]={\"rainy\":0,\"foggy\":0,\"sunny\":0}\n",
    "prev_state=\"\"\n",
    "occ={\"foggy\":0,\"rainy\":0,\"sunny\":0}\n",
    "for i in data.iterrows():\n",
    "    if prev_state==\"\":\n",
    "        prev_state=i[1].iloc[0]\n",
    "        occ[prev_state]+=1\n",
    "    else:\n",
    "        tran_cnt[prev_state][i[1].iloc[0]]+=1\n",
    "        prev_state=i[1].iloc[0]\n",
    "        occ[prev_state]+=1\n",
    "occ[prev_state]-=1\n",
    "print(\"Transtion counts: \\n\",tran_cnt)\n",
    "print(\"Total Number of Occurence of each event: \\n\",occ)\n",
    "tran_prob=dict()\n",
    "tran_prob[\"foggy\"]={\"rainy\":0,\"sunny\":0,\"foggy\":0}\n",
    "tran_prob[\"rainy\"]={\"sunny\":0,\"foggy\":0,\"rainy\":0}\n",
    "tran_prob[\"sunny\"]={\"rainy\":0,\"foggy\":0,\"sunny\":0}\n",
    "\n",
    "#Calculating the probability of the transition\n",
    "\n",
    "tran_prob[\"foggy\"][\"foggy\"]=tran_cnt[\"foggy\"][\"foggy\"]/occ[\"foggy\"]###  Transition Probability for the transtion\n",
    "tran_prob[\"foggy\"][\"rainy\"]=tran_cnt[\"foggy\"][\"rainy\"]/occ[\"foggy\"]#    from foggy to any\n",
    "tran_prob[\"foggy\"][\"sunny\"]=tran_cnt[\"foggy\"][\"sunny\"]/occ[\"foggy\"]###  other state.\n",
    "\n",
    "tran_prob[\"rainy\"][\"foggy\"]=tran_cnt[\"rainy\"][\"foggy\"]/occ[\"rainy\"]###  Transition Probability for the transtion\n",
    "tran_prob[\"rainy\"][\"rainy\"]=tran_cnt[\"rainy\"][\"rainy\"]/occ[\"rainy\"]#    from rainy to any\n",
    "tran_prob[\"rainy\"][\"sunny\"]=tran_cnt[\"rainy\"][\"sunny\"]/occ[\"rainy\"]###  other state\n",
    "\n",
    "tran_prob[\"sunny\"][\"foggy\"]=tran_cnt[\"sunny\"][\"foggy\"]/occ[\"sunny\"]###  Transition Probability for the transtion\n",
    "tran_prob[\"sunny\"][\"rainy\"]=tran_cnt[\"sunny\"][\"rainy\"]/occ[\"sunny\"]#    form sunny to any\n",
    "tran_prob[\"sunny\"][\"sunny\"]=tran_cnt[\"sunny\"][\"sunny\"]/occ[\"sunny\"]###  other state\n",
    "\n",
    "print(\"\\n\\nTransition Probabilities: \",tran_prob)"
   ]
  },
  {
   "cell_type": "markdown",
   "metadata": {},
   "source": [
    "### Now let's load the transition probability into a dataframe for better use and visualization"
   ]
  },
  {
   "cell_type": "code",
   "execution_count": 37,
   "metadata": {},
   "outputs": [
    {
     "data": {
      "text/html": [
       "<div>\n",
       "<style scoped>\n",
       "    .dataframe tbody tr th:only-of-type {\n",
       "        vertical-align: middle;\n",
       "    }\n",
       "\n",
       "    .dataframe tbody tr th {\n",
       "        vertical-align: top;\n",
       "    }\n",
       "\n",
       "    .dataframe thead th {\n",
       "        text-align: right;\n",
       "    }\n",
       "</style>\n",
       "<table border=\"1\" class=\"dataframe\">\n",
       "  <thead>\n",
       "    <tr style=\"text-align: right;\">\n",
       "      <th></th>\n",
       "      <th>foggy</th>\n",
       "      <th>rainy</th>\n",
       "      <th>sunny</th>\n",
       "    </tr>\n",
       "  </thead>\n",
       "  <tbody>\n",
       "    <tr>\n",
       "      <th>foggy</th>\n",
       "      <td>0.501916</td>\n",
       "      <td>0.291188</td>\n",
       "      <td>0.206897</td>\n",
       "    </tr>\n",
       "    <tr>\n",
       "      <th>rainy</th>\n",
       "      <td>0.224490</td>\n",
       "      <td>0.579592</td>\n",
       "      <td>0.195918</td>\n",
       "    </tr>\n",
       "    <tr>\n",
       "      <th>sunny</th>\n",
       "      <td>0.150101</td>\n",
       "      <td>0.054767</td>\n",
       "      <td>0.795132</td>\n",
       "    </tr>\n",
       "  </tbody>\n",
       "</table>\n",
       "</div>"
      ],
      "text/plain": [
       "          foggy     rainy     sunny\n",
       "foggy  0.501916  0.291188  0.206897\n",
       "rainy  0.224490  0.579592  0.195918\n",
       "sunny  0.150101  0.054767  0.795132"
      ]
     },
     "execution_count": 37,
     "metadata": {},
     "output_type": "execute_result"
    }
   ],
   "source": [
    "tran_probFrame=pd.DataFrame(tran_prob)\n",
    "tran_probFrame=tran_probFrame.T #We will be transposing the matrix just for displaying purpose but for actual calculation we\n",
    "tran_probFrame                  #will still use the orginal dataframe"
   ]
  },
  {
   "cell_type": "code",
   "execution_count": 38,
   "metadata": {},
   "outputs": [],
   "source": [
    "tran_probFrame=tran_probFrame.T #Restore to original format for actual calculation "
   ]
  },
  {
   "cell_type": "markdown",
   "metadata": {},
   "source": [
    "## Now we will calculate the alpha at each timestep i.e we will use the Forward Algorithm to calculate the sequence of hidden states"
   ]
  },
  {
   "cell_type": "markdown",
   "metadata": {},
   "source": [
    "### Given Sequence of Observed Events"
   ]
  },
  {
   "cell_type": "code",
   "execution_count": 41,
   "metadata": {},
   "outputs": [],
   "source": [
    "sequence=['no', 'no', 'no', 'yes', 'no', 'no', 'yes', 'yes', 'no', 'yes']"
   ]
  },
  {
   "cell_type": "markdown",
   "metadata": {},
   "source": [
    "### Now let's initialize our intial probabilities and alpha matrix"
   ]
  },
  {
   "cell_type": "code",
   "execution_count": 42,
   "metadata": {},
   "outputs": [],
   "source": [
    "alpha=[]"
   ]
  },
  {
   "cell_type": "markdown",
   "metadata": {},
   "source": [
    "### Since our initial state is given as \"sunny\" our initial probabilities will be as follows:"
   ]
  },
  {
   "cell_type": "code",
   "execution_count": 43,
   "metadata": {},
   "outputs": [],
   "source": [
    "state_probabilities={\"foggy\":0,\"rainy\":0,\"sunny\":1}"
   ]
  },
  {
   "cell_type": "markdown",
   "metadata": {},
   "source": [
    "## Now Let's create our Hidden Markov Model:"
   ]
  },
  {
   "cell_type": "markdown",
   "metadata": {},
   "source": [
    "### Forward Algorithm:"
   ]
  },
  {
   "cell_type": "code",
   "execution_count": 44,
   "metadata": {},
   "outputs": [],
   "source": [
    "def forward_algorithm(state_probabilities,alpha):\n",
    "    alpha.append(dict(state_probabilities))\n",
    "    for i in sequence:\n",
    "        curr_s,curr_r,curr_f=state_probabilities[\"sunny\"],state_probabilities[\"rainy\"],state_probabilities[\"foggy\"]\n",
    "        \n",
    "        #Calcuating the probability for the next timestep given an observation\n",
    "        nxt_s=((curr_s*tran_probFrame[\"sunny\"][\"sunny\"])+(curr_r*tran_probFrame[\"rainy\"][\"sunny\"])+(curr_f*tran_probFrame[\"foggy\"][\"sunny\"]))*prob_dframe[\"sunny\"][i]\n",
    "        nxt_r=((curr_s*tran_probFrame[\"sunny\"][\"rainy\"])+(curr_r*tran_probFrame[\"rainy\"][\"rainy\"])+(curr_f*tran_probFrame[\"foggy\"][\"rainy\"]))*prob_dframe[\"rainy\"][i]\n",
    "        nxt_f=((curr_s*tran_probFrame[\"sunny\"][\"foggy\"])+(curr_r*tran_probFrame[\"rainy\"][\"foggy\"])+(curr_f*tran_probFrame[\"foggy\"][\"foggy\"]))*prob_dframe[\"foggy\"][i]\n",
    "        \n",
    "        state_probabilities[\"sunny\"],state_probabilities[\"rainy\"],state_probabilities[\"foggy\"]=nxt_s,nxt_r,nxt_f\n",
    "        \n",
    "        print(state_probabilities,i)\n",
    "        \n",
    "        alpha.append(dict(state_probabilities))"
   ]
  },
  {
   "cell_type": "code",
   "execution_count": 45,
   "metadata": {},
   "outputs": [
    {
     "name": "stdout",
     "output_type": "stream",
     "text": [
      "{'foggy': 0.10466842305689616, 'rainy': 0.01028273378316844, 'sunny': 0.7275295431588802} no\n",
      "{'foggy': 0.11439244744052589, 'rainy': 0.014322403643966827, 'sunny': 0.5509569096977757} no\n",
      "{'foggy': 0.09994659997395897, 'rainy': 0.013477988188229149, 'sunny': 0.425060076657645} no\n",
      "{'foggy': 0.03541154127865861, 'rainy': 0.048892357690394996, 'sunny': 0.030717643357287067} yes\n",
      "{'foggy': 0.023262672469707552, 'rainy': 0.007572411677204941, 'sunny': 0.03781612538208323} no\n",
      "{'foggy': 0.013285361262055288, 'rainy': 0.002484709468915218, 'sunny': 0.033273556207167626} no\n",
      "{'foggy': 0.003698874275561314, 'rainy': 0.005792066099421651, 'sunny': 0.002524451644677926} yes\n",
      "{'foggy': 0.0010701947230657546, 'rainy': 0.003713873677663832, 'sunny': 0.0003322020065376995} yes\n",
      "{'foggy': 0.0009907063866998222, 'rainy': 0.00046607426572577756, 'sunny': 0.001110035196587303} no\n",
      "{'foggy': 0.00023261046767684336, 'rainy': 0.0005031104968301476, 'sunny': 0.00010023126381815604} yes\n"
     ]
    }
   ],
   "source": [
    "forward_algorithm(state_probabilities,alpha)"
   ]
  },
  {
   "cell_type": "markdown",
   "metadata": {},
   "source": [
    "## Decoding Algorithm (Viterbi): Here we take the most probable state at each timestep to decode the sequence of hidden states"
   ]
  },
  {
   "cell_type": "code",
   "execution_count": 54,
   "metadata": {},
   "outputs": [
    {
     "name": "stdout",
     "output_type": "stream",
     "text": [
      "[{'foggy': 0, 'rainy': 0, 'sunny': 1}, {'foggy': 0.10466842305689616, 'rainy': 0.01028273378316844, 'sunny': 0.7275295431588802}, {'foggy': 0.11439244744052589, 'rainy': 0.014322403643966827, 'sunny': 0.5509569096977757}, {'foggy': 0.09994659997395897, 'rainy': 0.013477988188229149, 'sunny': 0.425060076657645}, {'foggy': 0.03541154127865861, 'rainy': 0.048892357690394996, 'sunny': 0.030717643357287067}, {'foggy': 0.023262672469707552, 'rainy': 0.007572411677204941, 'sunny': 0.03781612538208323}, {'foggy': 0.013285361262055288, 'rainy': 0.002484709468915218, 'sunny': 0.033273556207167626}, {'foggy': 0.003698874275561314, 'rainy': 0.005792066099421651, 'sunny': 0.002524451644677926}, {'foggy': 0.0010701947230657546, 'rainy': 0.003713873677663832, 'sunny': 0.0003322020065376995}, {'foggy': 0.0009907063866998222, 'rainy': 0.00046607426572577756, 'sunny': 0.001110035196587303}, {'foggy': 0.00023261046767684336, 'rainy': 0.0005031104968301476, 'sunny': 0.00010023126381815604}]\n"
     ]
    }
   ],
   "source": [
    "print(alpha)\n",
    "def decode(alpha,predicted_sequence):\n",
    "    for i in alpha:\n",
    "        predicted_sequence.append(max(i,key=i.get))"
   ]
  },
  {
   "cell_type": "code",
   "execution_count": 55,
   "metadata": {},
   "outputs": [],
   "source": [
    "predicted_sequence=[]\n",
    "decode(alpha,predicted_sequence)"
   ]
  },
  {
   "cell_type": "markdown",
   "metadata": {},
   "source": [
    "## Now let's print the predicted sequence:"
   ]
  },
  {
   "cell_type": "code",
   "execution_count": 59,
   "metadata": {},
   "outputs": [
    {
     "name": "stdout",
     "output_type": "stream",
     "text": [
      "['sunny', 'sunny', 'sunny', 'sunny', 'rainy', 'sunny', 'sunny', 'rainy', 'rainy', 'sunny', 'rainy']\n",
      "\n",
      "## Ignore the initial state since we already know it was sunny ##\n"
     ]
    }
   ],
   "source": [
    "print(predicted_sequence)\n",
    "print(\"\\n## Ignore the initial state since we already know it was sunny ##\")"
   ]
  },
  {
   "cell_type": "markdown",
   "metadata": {},
   "source": [
    "## Now let's print the \"a(ij)\" - transition probability matrix:"
   ]
  },
  {
   "cell_type": "code",
   "execution_count": 62,
   "metadata": {},
   "outputs": [
    {
     "data": {
      "text/html": [
       "<div>\n",
       "<style scoped>\n",
       "    .dataframe tbody tr th:only-of-type {\n",
       "        vertical-align: middle;\n",
       "    }\n",
       "\n",
       "    .dataframe tbody tr th {\n",
       "        vertical-align: top;\n",
       "    }\n",
       "\n",
       "    .dataframe thead th {\n",
       "        text-align: right;\n",
       "    }\n",
       "</style>\n",
       "<table border=\"1\" class=\"dataframe\">\n",
       "  <thead>\n",
       "    <tr style=\"text-align: right;\">\n",
       "      <th></th>\n",
       "      <th>foggy</th>\n",
       "      <th>rainy</th>\n",
       "      <th>sunny</th>\n",
       "    </tr>\n",
       "  </thead>\n",
       "  <tbody>\n",
       "    <tr>\n",
       "      <th>foggy</th>\n",
       "      <td>0.501916</td>\n",
       "      <td>0.291188</td>\n",
       "      <td>0.206897</td>\n",
       "    </tr>\n",
       "    <tr>\n",
       "      <th>rainy</th>\n",
       "      <td>0.224490</td>\n",
       "      <td>0.579592</td>\n",
       "      <td>0.195918</td>\n",
       "    </tr>\n",
       "    <tr>\n",
       "      <th>sunny</th>\n",
       "      <td>0.150101</td>\n",
       "      <td>0.054767</td>\n",
       "      <td>0.795132</td>\n",
       "    </tr>\n",
       "  </tbody>\n",
       "</table>\n",
       "</div>"
      ],
      "text/plain": [
       "          foggy     rainy     sunny\n",
       "foggy  0.501916  0.291188  0.206897\n",
       "rainy  0.224490  0.579592  0.195918\n",
       "sunny  0.150101  0.054767  0.795132"
      ]
     },
     "execution_count": 62,
     "metadata": {},
     "output_type": "execute_result"
    }
   ],
   "source": [
    "tran_probFrame.T"
   ]
  },
  {
   "cell_type": "markdown",
   "metadata": {},
   "source": [
    "## Now let's print the \"b\" - emission probability matrix:"
   ]
  },
  {
   "cell_type": "code",
   "execution_count": 63,
   "metadata": {},
   "outputs": [
    {
     "data": {
      "text/html": [
       "<div>\n",
       "<style scoped>\n",
       "    .dataframe tbody tr th:only-of-type {\n",
       "        vertical-align: middle;\n",
       "    }\n",
       "\n",
       "    .dataframe tbody tr th {\n",
       "        vertical-align: top;\n",
       "    }\n",
       "\n",
       "    .dataframe thead th {\n",
       "        text-align: right;\n",
       "    }\n",
       "</style>\n",
       "<table border=\"1\" class=\"dataframe\">\n",
       "  <thead>\n",
       "    <tr style=\"text-align: right;\">\n",
       "      <th></th>\n",
       "      <th>foggy</th>\n",
       "      <th>rainy</th>\n",
       "      <th>sunny</th>\n",
       "    </tr>\n",
       "  </thead>\n",
       "  <tbody>\n",
       "    <tr>\n",
       "      <th>no</th>\n",
       "      <td>0.697318</td>\n",
       "      <td>0.187755</td>\n",
       "      <td>0.91498</td>\n",
       "    </tr>\n",
       "    <tr>\n",
       "      <th>yes</th>\n",
       "      <td>0.302682</td>\n",
       "      <td>0.812245</td>\n",
       "      <td>0.08502</td>\n",
       "    </tr>\n",
       "  </tbody>\n",
       "</table>\n",
       "</div>"
      ],
      "text/plain": [
       "        foggy     rainy    sunny\n",
       "no   0.697318  0.187755  0.91498\n",
       "yes  0.302682  0.812245  0.08502"
      ]
     },
     "execution_count": 63,
     "metadata": {},
     "output_type": "execute_result"
    }
   ],
   "source": [
    "prob_dframe"
   ]
  },
  {
   "cell_type": "markdown",
   "metadata": {},
   "source": [
    "## Now let's print the \"alpha\" - at each timestep:"
   ]
  },
  {
   "cell_type": "code",
   "execution_count": 83,
   "metadata": {},
   "outputs": [
    {
     "name": "stdout",
     "output_type": "stream",
     "text": [
      "                                                     foggy     rainy     sunny\n",
      "Initial Probability(Timestep-0)                   0.000000  0.000000  1.000000\n",
      "Timestep - 1                                      0.104668  0.010283  0.727530\n",
      "Timestep - 2                                      0.114392  0.014322  0.550957\n",
      "Timestep - 3                                      0.099947  0.013478  0.425060\n",
      "Timestep - 4                                      0.035412  0.048892  0.030718\n",
      "Timestep - 5                                      0.023263  0.007572  0.037816\n",
      "Timestep - 6                                      0.013285  0.002485  0.033274\n",
      "Timestep - 7                                      0.003699  0.005792  0.002524\n",
      "Timestep - 8                                      0.001070  0.003714  0.000332\n",
      "Timestep - 9                                      0.000991  0.000466  0.001110\n",
      "Final Timestep Probability(Used to calculate Wo)  0.000233  0.000503  0.000100\n"
     ]
    }
   ],
   "source": [
    "alpha_DataFrame=(pd.DataFrame(alpha))\n",
    "index_arr=[]\n",
    "index_arr.append(\"Initial Probability(Timestep-0)\")\n",
    "for i in range(1,len(alpha)-1):\n",
    "    index_arr.append(\"Timestep - \"+str(i))\n",
    "index_arr.append(\"Final Timestep Probability(Used to calculate Wo)\")\n",
    "alpha_DataFrame.index=index_arr\n",
    "print(alpha_DataFrame)"
   ]
  },
  {
   "cell_type": "markdown",
   "metadata": {},
   "source": [
    "## Now let's calculate the final probability for our sequence "
   ]
  },
  {
   "cell_type": "markdown",
   "metadata": {},
   "source": [
    "### First calculate the probability of occurence of each state in our total dataset"
   ]
  },
  {
   "cell_type": "code",
   "execution_count": 84,
   "metadata": {},
   "outputs": [],
   "source": [
    "total_sunny_p=(counts[\"sunny\"][\"yes\"]+counts[\"sunny\"][\"no\"])/len(data)\n",
    "total_rainy_p=(counts[\"rainy\"][\"yes\"]+counts[\"rainy\"][\"no\"])/len(data)\n",
    "total_foggy_p=(counts[\"foggy\"][\"yes\"]+counts[\"foggy\"][\"no\"])/len(data)"
   ]
  },
  {
   "cell_type": "markdown",
   "metadata": {},
   "source": [
    "### Now we calculate the final probability for our sequence by transitioning to the Wo State"
   ]
  },
  {
   "cell_type": "code",
   "execution_count": 85,
   "metadata": {},
   "outputs": [
    {
     "name": "stdout",
     "output_type": "stream",
     "text": [
      "Final Probability of our Predicted Sequence of Observation =  0.00023348764811321137\n"
     ]
    }
   ],
   "source": [
    "final_p=(total_sunny_p*alpha[-1][\"sunny\"])+(total_rainy_p*alpha[-1][\"rainy\"])+(total_foggy_p*alpha[-1][\"foggy\"])\n",
    "print(\"Final Probability of our Predicted Sequence of Observation = \",final_p)"
   ]
  },
  {
   "cell_type": "code",
   "execution_count": null,
   "metadata": {},
   "outputs": [],
   "source": []
  },
  {
   "cell_type": "code",
   "execution_count": null,
   "metadata": {},
   "outputs": [],
   "source": []
  }
 ],
 "metadata": {
  "kernelspec": {
   "display_name": "Python 3",
   "language": "python",
   "name": "python3"
  },
  "language_info": {
   "codemirror_mode": {
    "name": "ipython",
    "version": 3
   },
   "file_extension": ".py",
   "mimetype": "text/x-python",
   "name": "python",
   "nbconvert_exporter": "python",
   "pygments_lexer": "ipython3",
   "version": "3.7.3"
  }
 },
 "nbformat": 4,
 "nbformat_minor": 2
}
